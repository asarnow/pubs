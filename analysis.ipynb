{
 "cells": [
  {
   "cell_type": "markdown",
   "metadata": {},
   "source": [
    "# Mass Spec Data Analysis"
   ]
  },
  {
   "cell_type": "code",
   "execution_count": 1,
   "metadata": {
    "collapsed": false
   },
   "outputs": [
    {
     "name": "stdout",
     "output_type": "stream",
     "text": [
      "Populating the interactive namespace from numpy and matplotlib\n"
     ]
    }
   ],
   "source": [
    "# First, we must perform the incantations.\n",
    "%pylab inline\n",
    "import pandas as pd"
   ]
  },
  {
   "cell_type": "code",
   "execution_count": 2,
   "metadata": {
    "collapsed": false
   },
   "outputs": [],
   "source": [
    "# Parse data file.\n",
    "proteins = pd.read_table('data/pubs2015/proteinGroups.txt', low_memory=False)\n",
    "\n",
    "# Find mass spec intensity columns.\n",
    "intensity_cols = [c for c in proteins.columns if 'intensity '\n",
    "            in c.lower() and 'lfq' not in c.lower()]\n",
    "\n",
    "# Find columns corresponding to experiment classes.\n",
    "wcl_cols = [c for c in intensity_cols if '_wcl' in c.lower() and '_wclp' not in c.lower()]\n",
    "wclp_cols = [c for c in intensity_cols if '_wclp' in c.lower()]\n",
    "ub_cols = [c for c in intensity_cols if '_ub' in c.lower() and '_ubp' not in c.lower()]\n",
    "ubp_cols = [c for c in intensity_cols if '_ubp' in c.lower()]\n",
    "\n",
    "# Create a binary mask excluding reversed and contaminated samples.\n",
    "mask = (proteins['Reverse'] != '+') & \\\n",
    "       (proteins['Potential contaminant'] != '+')"
   ]
  },
  {
   "cell_type": "markdown",
   "metadata": {},
   "source": [
    "## Relative intensity\n",
    "Every MS run has a characteristic intensity scale depending on the quantity of sample, concentration of cells / protein and probably other things.\n",
    "\n",
    "Before further analysis we compute relative intensity based on the total intensity in each MS run."
   ]
  },
  {
   "cell_type": "code",
   "execution_count": 3,
   "metadata": {
    "collapsed": true
   },
   "outputs": [],
   "source": [
    "# Apply reversed/contaminated mask and get intensity columns.\n",
    "intensities = proteins[mask][intensity_cols]\n",
    "# Sum down the columns (MS runs).\n",
    "total_intensities = proteins[intensity_cols].sum(axis=0)\n",
    "# Element-wise division with singleton expansion/broadcasting.\n",
    "normed_intensities = intensities / total_intensities"
   ]
  },
  {
   "cell_type": "code",
   "execution_count": 5,
   "metadata": {
    "collapsed": true
   },
   "outputs": [],
   "source": [
    "# Indices of proteins which have non-zero intensity in at least one run.\n",
    "idx = (normed_intensities != 0).any(axis=1)\n",
    "\n",
    "# Get names and intensities of such proteins.\n",
    "names = proteins[mask][idx]['Protein IDs']\n",
    "nonzero_intensities = normed_intensities[idx]\n",
    "\n",
    "# Separate the intensity DataFrame into separate DataFrames for each experiment class.\n",
    "wcl = nonzero_intensities[wcl_cols]\n",
    "wclp = nonzero_intensities[wclp_cols]\n",
    "ub = nonzero_intensities[ub_cols]\n",
    "ubp = nonzero_intensities[ubp_cols]"
   ]
  },
  {
   "cell_type": "code",
   "execution_count": 6,
   "metadata": {
    "collapsed": true
   },
   "outputs": [],
   "source": [
    "# Find control columns in each experiment class.\n",
    "wcl_ctrl = [c for c in wcl.columns if 'control' in c.lower()]\n",
    "wclp_ctrl = [c for c in wclp.columns if 'control' in c.lower()]\n",
    "ub_ctrl = [c for c in ub.columns if 'control' in c.lower()]\n",
    "ubp_ctrl = [c for c in ubp.columns if 'control' in c.lower()]\n",
    "\n",
    "# Find experiment columns in each experiment class.\n",
    "wcl_exp = [c for c in wcl.columns if 'control' not in c.lower()]\n",
    "wclp_exp = [c for c in wclp.columns if 'control' not in c.lower()]\n",
    "ub_exp = [c for c in ub.columns if 'control' not in c.lower()]\n",
    "ubp_exp = [c for c in ubp.columns if 'control' not in c.lower()]\n"
   ]
  },
  {
   "cell_type": "markdown",
   "metadata": {},
   "source": [
    "## Fold-change\n",
    "Compute base-2 logarithm of the experiment : control ratios for each protein and experiment class.\n",
    "\n",
    "These values represent the \"fold change\" from control in each of the experiments."
   ]
  },
  {
   "cell_type": "code",
   "execution_count": 7,
   "metadata": {
    "collapsed": true
   },
   "outputs": [],
   "source": [
    "# Need to use underlying numpy arrays for singleton expansion ('broadcasting')\n",
    "# and form new DataFrame using appropriate column names.\n",
    "wcl_foldch = pd.DataFrame(log2(wcl[wcl_exp]).values - log2(wcl[wcl_ctrl]).values, columns=wcl_exp)\n",
    "wclp_foldch = pd.DataFrame(log2(wclp[wclp_exp]).values - log2(wclp[wclp_ctrl]).values, columns=wclp_exp)\n",
    "ub_foldch = pd.DataFrame(log2(ub[ub_exp]).values - log2(ub[ub_ctrl]).values, columns=ub_exp)\n",
    "ubp_foldch = pd.DataFrame(log2(ubp[ubp_exp]).values - log2(ubp[ubp_ctrl]).values, columns=ubp_exp)\n"
   ]
  },
  {
   "cell_type": "code",
   "execution_count": 10,
   "metadata": {
    "collapsed": false
   },
   "outputs": [
    {
     "data": {
      "image/png": "[encoded data removed]",
      "text/plain": [
       "<matplotlib.figure.Figure at 0x117175c10>"
      ]
     },
     "metadata": {},
     "output_type": "display_data"
    }
   ],
   "source": [
    "# 3rd-to-last element is Shmoo / CaCl2.\n",
    "# Only histogram finite (non-inf, non-NaN) values.\n",
    "hist(wcl_foldch[wcl_foldch.columns[-3]][isfinite(wcl_foldch[wcl_foldch.columns[-3]])].values, 100);"
   ]
  }
 ],
 "metadata": {
  "kernelspec": {
   "display_name": "Python 2",
   "language": "python",
   "name": "python2"
  },
  "language_info": {
   "codemirror_mode": {
    "name": "ipython",
    "version": 2
   },
   "file_extension": ".py",
   "mimetype": "text/x-python",
   "name": "python",
   "nbconvert_exporter": "python",
   "pygments_lexer": "ipython2",
   "version": "2.7.10"
  }
 },
 "nbformat": 4,
 "nbformat_minor": 0
}
